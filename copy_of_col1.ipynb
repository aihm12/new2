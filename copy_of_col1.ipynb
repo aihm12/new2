{
  "nbformat": 4,
  "nbformat_minor": 0,
  "metadata": {
    "colab": {
      "provenance": [],
      "authorship_tag": "ABX9TyPxy9yW+2aXfAas3GBax7w6"
    },
    "kernelspec": {
      "name": "python3",
      "display_name": "Python 3"
    },
    "language_info": {
      "name": "python"
    },
    "accelerator": "TPU"
  },
  "cells": [
    {
      "cell_type": "code",
      "execution_count": null,
      "metadata": {
        "id": "TSbdLhaUlzEv"
      },
      "outputs": [],
      "source": [
        "\"\"\n",
        "\n",
        "import numpy as np\n",
        "'''\n",
        "ls=[[5,6,8],[3,9,10],[9,6,7]]\n",
        "lsnp=np.array(ls)\n",
        "print(ls)\n",
        "\n",
        "\n",
        "print('\\n')\n",
        "print(lsnp)"
      ]
    }
  ]
}